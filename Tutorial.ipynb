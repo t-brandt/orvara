{
 "cells": [
  {
   "cell_type": "markdown",
   "metadata": {},
   "source": [
    "# $orvara$ tutorial"
   ]
  },
  {
   "cell_type": "markdown",
   "metadata": {},
   "source": [
    "### cd into the root directory and install the package first with pip install"
   ]
  },
  {
   "cell_type": "markdown",
   "metadata": {},
   "source": [
    "This will build orvara. Make sure that you are in the root directory of the repo. The -e flag builds the Cython modules."
   ]
  },
  {
   "cell_type": "code",
   "execution_count": 1,
   "metadata": {},
   "outputs": [
    {
     "name": "stdout",
     "output_type": "stream",
     "text": [
      "CHANGES.md                Tutorial.ipynb            \u001b[1m\u001b[36morvara.egg-info\u001b[m\u001b[m/\r\n",
      "HGCA_vDR2_corrected.fits  \u001b[1m\u001b[36mbuild\u001b[m\u001b[m/                    pyproject.toml\r\n",
      "LICENCE                   \u001b[1m\u001b[36mmisc\u001b[m\u001b[m/                     pytest.ini\r\n",
      "README.rst                \u001b[1m\u001b[36morvara\u001b[m\u001b[m/                   setup.py\r\n"
     ]
    }
   ],
   "source": [
    "ls"
   ]
  },
  {
   "cell_type": "code",
   "execution_count": null,
   "metadata": {},
   "outputs": [],
   "source": [
    "pip install -e ."
   ]
  },
  {
   "cell_type": "markdown",
   "metadata": {},
   "source": [
    "### Run pytest to make sure that the tests pass"
   ]
  },
  {
   "cell_type": "markdown",
   "metadata": {},
   "source": [
    "This will run a small suite of tests. This should take about 5 minutes. If any of the tests fail, something is wrong with the install. Try running pip install -e . If the issue persists, please submit an issue ticket!"
   ]
  },
  {
   "cell_type": "code",
   "execution_count": 2,
   "metadata": {},
   "outputs": [
    {
     "name": "stdout",
     "output_type": "stream",
     "text": [
      "\u001b[1m============================= test session starts ==============================\u001b[0m\n",
      "platform darwin -- Python 3.8.5, pytest-6.1.1, py-1.9.0, pluggy-0.13.1 -- /Users/user/anaconda3/bin/python\n",
      "cachedir: .pytest_cache\n",
      "rootdir: /Users/user/orvara, configfile: pytest.ini\n",
      "collected 5 items                                                              \u001b[0m\u001b[1m\n",
      "\n",
      "orvara/tests/test_config.py::test_example_config_file \u001b[32mPASSED\u001b[0m\n",
      "orvara/tests/test_main.py::test_set_initial_parameters \u001b[32mPASSED\u001b[0m\n",
      "orvara/tests/test_main.py::test_get_priors \u001b[32mPASSED\u001b[0m\n",
      "orvara/tests/test_main.py::test_run Loading RV data from file orvara/tests/data/Gl758_RV.dat\n",
      "Loaded data from 3 RV instruments.\n",
      "Loading astrometric data for 1 planets\n",
      "Loaded 4 relative astrometric data points from file orvara/tests/data/Gl758_relAST.txt\n",
      "Loading absolute astrometry data for Hip 95319\n",
      "Not using companion proper motion from Gaia.\n",
      "Using ptemcee.\n",
      "Running MCMC ... \n",
      "[###############################]100%50%\n",
      "Total Time: 2 seconds\n",
      "Mean acceptance fraction (cold chain): 0.224900\n",
      "Writing output to /var/folders/26/nvb1t9c52z92bncgypjf9g340000gn/T/tmppm121yaw/HIP95319_chain000.fits\n",
      "\u001b[32mPASSED\u001b[0m\n",
      "orvara/tests/test_main.py::test_converges_to_accurate_values Loading RV data from file orvara/tests/data/HD4747_RV.dat\n",
      "Loaded data from 1 RV instruments.\n",
      "Loading astrometric data for 1 planets\n",
      "Loaded 8 relative astrometric data points from file orvara/tests/data/HD4747_relAST.txt\n",
      "Loading absolute astrometry data for Hip 3850\n",
      "Not using companion proper motion from Gaia.\n",
      "Using ptemcee.\n",
      "Running MCMC ... \n",
      "[###############################]100% 1%  2%  3%  4%  5%  6%  7%  8%  9% 10% 11% 12% 13% 14% 15% 16% 17% 18% 19% 20% 21% 22% 23% 24% 25% 26% 27% 28% 29% 30% 31% 32% 33% 34% 35% 36% 37% 38% 39% 40% 41% 42% 43% 44% 45% 46% 47% 48% 49% 50% 51% 52% 53% 54% 55% 56% 57% 58% 59% 60% 61% 62% 63% 64% 65% 66% 67% 68% 69% 70% 71% 72% 73% 74% 75% 76% 77% 78% 79% 80% 81% 82% 83% 84% 85% 86% 87% 88% 89% 90% 91% 92% 93% 94% 95% 96% 97% 98% 99%\n",
      "Total Time: 320 seconds\n",
      "Mean acceptance fraction (cold chain): 0.260862\n",
      "Writing output to /var/folders/26/nvb1t9c52z92bncgypjf9g340000gn/T/tmp3t_mqtyt/HIP3850_chain000.fits\n",
      "\u001b[32mPASSED\u001b[0m\n",
      "\n",
      "\u001b[32m======================== \u001b[32m\u001b[1m5 passed\u001b[0m\u001b[32m in 324.83s (0:05:24)\u001b[0m\u001b[32m =========================\u001b[0m\n"
     ]
    }
   ],
   "source": [
    "!pytest -sv"
   ]
  },
  {
   "cell_type": "markdown",
   "metadata": {},
   "source": [
    "### Check the usage of fit_orbit and plot_orbit"
   ]
  },
  {
   "cell_type": "markdown",
   "metadata": {},
   "source": [
    "fit_orbit and plot_orbit are the key commands to operate this package. Run --h to see their functionality. "
   ]
  },
  {
   "cell_type": "markdown",
   "metadata": {},
   "source": [
    "both commands require one optional argument --output-dir immediately followed by the desired directory to write output to. fit_orbit outputs the MCMC chain from the fit and plot_orbit outputs a set of publication-quality plots. If --output-dir flag is omitted, the output directory will be automatically set to the current working directory by default. \n",
    "\n",
    "Following the output directory is the configuration file tailored to the system you are fitting. Example configuration files can be found in /orvara/tests/."
   ]
  },
  {
   "cell_type": "code",
   "execution_count": 3,
   "metadata": {},
   "outputs": [
    {
     "name": "stdout",
     "output_type": "stream",
     "text": [
      "usage: fit_orbit [-h] [--output-dir OUTPUT_DIR] configfile\r\n",
      "\r\n",
      "Fit a Keplerian orbit or orbits using orvara.\r\n",
      "\r\n",
      "positional arguments:\r\n",
      "  configfile            Path to the planet-specific configuration file.\r\n",
      "\r\n",
      "optional arguments:\r\n",
      "  -h, --help            show this help message and exit\r\n",
      "  --output-dir OUTPUT_DIR\r\n",
      "                        Directory within which to save the MCMC results,\r\n",
      "                        default current directory.\r\n"
     ]
    }
   ],
   "source": [
    "!fit_orbit --h"
   ]
  },
  {
   "cell_type": "code",
   "execution_count": 4,
   "metadata": {},
   "outputs": [
    {
     "name": "stdout",
     "output_type": "stream",
     "text": [
      "usage: plot_orbit [-h] [--output-dir OUTPUT_DIR] configfile\r\n",
      "\r\n",
      "Plot astrometry or RV orbits and other relavant plots.\r\n",
      "\r\n",
      "positional arguments:\r\n",
      "  configfile            Path to the planet-specific configuration file.\r\n",
      "\r\n",
      "optional arguments:\r\n",
      "  -h, --help            show this help message and exit\r\n",
      "  --output-dir OUTPUT_DIR\r\n",
      "                        Directory within which to save the plots, default\r\n",
      "                        current directory.\r\n"
     ]
    }
   ],
   "source": [
    "!plot_orbit --h"
   ]
  },
  {
   "cell_type": "markdown",
   "metadata": {},
   "source": [
    "### Running an example of fit_orbit, we will fit orbit to the White Dwarf - Main Sequence (WD-MS) binary system HD159062. "
   ]
  },
  {
   "cell_type": "markdown",
   "metadata": {},
   "source": [
    "The customizable configuration file for HD 159062 is located in orvara/tests/"
   ]
  },
  {
   "cell_type": "markdown",
   "metadata": {},
   "source": [
    "So let's load the config.ini file for HD 159062 here:"
   ]
  },
  {
   "cell_type": "code",
   "execution_count": 5,
   "metadata": {},
   "outputs": [
    {
     "name": "stdout",
     "output_type": "stream",
     "text": [
      "\u001b[1m\u001b[36m__pycache__\u001b[m\u001b[m/                      \u001b[1m\u001b[36mdata\u001b[m\u001b[m/\r\n",
      "\u001b[1m\u001b[36mchains\u001b[m\u001b[m/                           diagnostic_config.ini\r\n",
      "config.ini                        \u001b[1m\u001b[36mplots\u001b[m\u001b[m/\r\n",
      "config_Gl758.ini                  start_Gl758.dat\r\n",
      "config_HD159062.ini               test_config.py\r\n",
      "config_HD4747.ini                 test_main.py\r\n",
      "config_with_secondary_priors.ini  utils.py\r\n"
     ]
    }
   ],
   "source": [
    "ls orvara/tests/"
   ]
  },
  {
   "cell_type": "code",
   "execution_count": null,
   "metadata": {},
   "outputs": [],
   "source": [
    "# %load orvara/tests/config_HD159062.ini\n",
    "[data_paths]\n",
    "# Hipparcos ID of the star, used for fetching absolute astrometry.\n",
    "# If the Hipparcos ID is invalid the fit will not use HGCA astrometry. \n",
    "# In that case you must supply a parallax and parallax_error in [priors].\n",
    "HipID = 85653\n",
    "# The Hipparcos Gaia Catalog\n",
    "HGCAFile = HGCA_vEDR3_withchi2.fits\n",
    "# The file containing the radial velocity time series for the star.\n",
    "RVFile = orvara/tests/data/HD159062_RV.dat\n",
    "# The file containing the relative astrometry for the star. \n",
    "AstrometryFile = orvara/tests/data/HD159062_relAST.txt\n",
    "# The path to all the Gaia DR2 intermediate data\n",
    "GaiaDataDir = orvara/tests/data/gaia\n",
    "# The path to all the Hipparcos (original reduction) intermediate data\n",
    "Hip1DataDir = orvara/tests/data/hip1\n",
    "# The path to all the Hipparcos (second reduction) intermediate data. Note that this should be from the Java Tool. See the orvara readme for \n",
    "# a description and a link to download.\n",
    "Hip2DataDir = orvara/tests/data/hip2\n",
    "# the file path to the initial conditions to the orbit. \n",
    "# Set to None for default guess.\n",
    "start_file = None\n",
    "\n",
    "[mcmc_settings]\n",
    "# number of temperatures to use in the parallel tempering chain\n",
    "ntemps = 10\n",
    "# number of walkers. Each walker will have ntemps number of chains.\n",
    "nwalkers = 100\n",
    "# number of planets to fit.\n",
    "nplanets = 1\n",
    "# number of steps contained in each chain\n",
    "nstep = 20000\n",
    "# How much to thin the chain (save every thin-th step)\n",
    "thin = 50\n",
    "# number of threads to use with emcee. Note this built-in parellelization is poor.\n",
    "nthreads = 1\n",
    "# True if you want to use the epoch astrometry in GaiaDataDir, Hip1DataDir etc... False if not.\n",
    "use_epoch_astrometry = True\n",
    "# Use a separate jitter for each RV instrument?\n",
    "jit_per_inst = False\n",
    "\n",
    "[priors_settings]\n",
    "# priors on primary mass (solar), if prior is not specified, mpri should be inf\n",
    "mpri = 0.8\n",
    "mpri_sig = 0.05\n",
    "minjitter = 1e-5\n",
    "maxjitter = 1e3\n",
    "\n",
    "[secondary_gaia]\n",
    "# If the secondary star is in Gaia, set companion_ID to a nonnegative number\n",
    "# matching the ID of the companion in the relative astrometry file.  Setting\n",
    "# companion_ID to a negative number ignores the rest of this.\n",
    "companion_ID = -1\n",
    "# The rest of these should be from Gaia in units of mas.\n",
    "pmra = 0\n",
    "pmdec = 0\n",
    "epmra = 100\n",
    "epmdec = 100\n",
    "corr_pmra_pmdec = 0\n",
    "\n",
    "[plotting]\n",
    "# Path to mcmc chains. This is what's produced by the orbit_fit command.\n",
    "McmcDataFile = orvara/tests/chains/HD159062B_chain000.fits\n",
    "# Diagnostic plots to check for convergence.\n",
    "check_convergence = True\n",
    "# Define burnin for chains.\n",
    "burnin = 50\n",
    "# Which companion to plot?\n",
    "iplanet = 0\n",
    "\n",
    "# Name of the target\n",
    "target = HD159062B\n",
    "# This is a customized range of epochs you want to plot.\n",
    "start_epoch = 1990.\n",
    "end_epoch = 2015.\n",
    "# Number of random orbits drawn from the posterior distribution you want to plot.\n",
    "num_orbits = 50\n",
    "# Define step size for plotting.\n",
    "num_steps = 1500\n",
    "# Plot random predicted epoch positions on the Astrometry plot.\n",
    "predicted_years = 1990,2000,2010,2020,2030\n",
    "# Prediction of the location of the companion in a future epoch.\n",
    "position_predict = 2010\n",
    "\n",
    "\n",
    "# Select which plot you want to generate\n",
    "Astrometry_orbits_plot = True\n",
    "Astrometric_prediction_plot = True\n",
    "RV_orbits_plot = True\n",
    "RV_plot = True\n",
    "RV_Instrument = All\n",
    "Relative_separation_plot = True\n",
    "Position_angle_plot = True\n",
    "Proper_motion_plot = True\n",
    "Proper_motion_separate_plots = False\n",
    "Corner_plot = True\n",
    "\n",
    "############# Advanced plotting settings #############\n",
    "# 1. Set axes limits. Set the upper and lower limit for x and y axes.\n",
    "set_limit = False\n",
    "xlim = 1980, 2025\n",
    "ylim = -2.8,2.8\n",
    "# Choose the color of the marker for plotting the observed data points.\n",
    "marker_color = blue\n",
    "\n",
    "# 2. Turn on/off colorbar. Choose a matplotlib colormap, and choose to color\n",
    "# code by the secondary mass (msec_solar or msec_jup) or eccentricity (ecc).\n",
    "use_colorbar = True\n",
    "colormap = viridis\n",
    "reference = msec_solar\n",
    "\n",
    "# 3. Turn on/off the title of the plot? Additionally, if user wants to add\n",
    "# text somewhere on the plot, enter the text and its x and y position (with\n",
    "# (0, 0) being the bottom left and (1, 1) being the top right).\n",
    "show_title = False\n",
    "add_text = True\n",
    "text_name = HD 159062B\n",
    "x_text = 0.5\n",
    "y_text = 0.9\n",
    "\n",
    "\n",
    "[save_results]\n",
    "# quantiles: median and 1sigma = 0.16, 0.5, 0.84, \n",
    "# median and 2sigma = 0.025, 0.5, 0.975, or arbitrary\n",
    "save_params = True\n",
    "err_margin = 0.16, 0.5, 0.84"
   ]
  },
  {
   "cell_type": "markdown",
   "metadata": {},
   "source": [
    "Next, let's load the data sets needed for orbit fitting. There are three data types in general: RV, relative astrometry, or/and absolute astrometry. HD 159062 has all. Example data files are located in orvara/tests/data. Let's display them here:"
   ]
  },
  {
   "cell_type": "code",
   "execution_count": 8,
   "metadata": {},
   "outputs": [
    {
     "name": "stdout",
     "output_type": "stream",
     "text": [
      "Gl758_RV.dat         HD159062_relAST.txt  \u001b[1m\u001b[36mgaia\u001b[m\u001b[m/\r\n",
      "Gl758_relAST.txt     HD4747_RV.dat        \u001b[1m\u001b[36mhip1\u001b[m\u001b[m/\r\n",
      "HD159062_RV.dat      HD4747_relAST.txt    \u001b[1m\u001b[36mhip2\u001b[m\u001b[m/\r\n"
     ]
    }
   ],
   "source": [
    "ls orvara/tests/data"
   ]
  },
  {
   "cell_type": "markdown",
   "metadata": {},
   "source": [
    "This is the RV data, it has four columns: Epoch[JD], RV[m/s], RV_err[m/s] and InstrumentID"
   ]
  },
  {
   "cell_type": "code",
   "execution_count": null,
   "metadata": {},
   "outputs": [],
   "source": [
    "# %load orvara/tests/data/HD159062_RV.dat\n",
    "# Instrument: HIRES on Keck\n",
    "# Published in Hirsch, L. A., Ciardi, D. R., Howard, A. W., et al. 2019, ApJ, 878, 50\n",
    "# File format:\n",
    "# Epoch[JD]   RV[m/s] RV_err[m/s] InstrumentID\n",
    "2452832.91668\t89.22\t1.62\t0\n",
    "2453074.09155\t83.23\t1.68\t0\n",
    "2453196.81631\t76.88\t1.58\t0\n",
    "2453430.15779\t65.68\t0.93\t0\n",
    "2453547.94513\t60.98\t0.84\t0\n",
    "2453604.84622\t57.70\t1.03\t0\n",
    "2453807.13748\t50.30\t1.00\t0\n",
    "2453926.45063\t43.33\t0.57\t0\n",
    "2453927.88530\t44.96\t0.83\t0\n",
    "2454248.03230\t31.71\t1.44\t0\n",
    "2454249.95458\t32.00\t1.49\t0\n",
    "2454252.04380\t32.81\t1.02\t0\n",
    "2454255.93510\t32.28\t1.01\t0\n",
    "2454277.86337\t31.99\t1.33\t0\n",
    "2454278.90748\t32.22\t1.22\t0\n",
    "2454279.94547\t31.42\t1.29\t0\n",
    "2454285.90800\t30.58\t1.34\t0\n",
    "2454294.90713\t30.60\t1.30\t0\n",
    "2454634.43562\t19.74\t1.03\t0\n",
    "2454635.94255\t19.00\t1.43\t0\n",
    "2454636.93316\t17.04\t1.53\t0\n",
    "2454638.33247\t18.76\t0.99\t0\n",
    "2454640.38633\t14.57\t1.06\t0\n",
    "2454641.94950\t19.55\t1.47\t0\n",
    "2454644.08325\t15.11\t1.52\t0\n",
    "2454688.88580\t17.38\t1.47\t0\n",
    "2454689.89920\t9.37\t1.58\t0\n",
    "2454957.13845\t3.77\t1.67\t0\n",
    "2455401.78282\t-16.12\t1.40\t0\n",
    "2455722.86450\t-22.42\t1.56\t0\n",
    "2455782.89029\t-26.95\t1.55\t0\n",
    "2456164.72278\t-40.66\t1.54\t0\n",
    "2456451.97582\t-50.77\t1.03\t0\n",
    "2456475.78721\t-49.97\t1.43\t0\n",
    "2456709.08945\t-54.30\t1.43\t0\n",
    "2456883.74892\t-65.35\t1.49\t0\n",
    "2456910.83550\t-66.37\t1.62\t0\n",
    "2457061.17682\t-66.74\t1.43\t0\n",
    "2457211.95513\t-76.17\t1.40\t0\n",
    "2457671.70374\t-91.12\t1.72\t0\n",
    "2457831.16397\t-94.97\t1.59\t0\n",
    "2457853.14530\t-91.51\t1.92\t0\n",
    "2457970.94501\t-103.25\t1.86\t0\n",
    "2458263.03029\t-108.99\t1.22\t0\n",
    "2458349.72648\t-110.69\t1.58\t0"
   ]
  },
  {
   "cell_type": "markdown",
   "metadata": {},
   "source": [
    "This is the relative astrometry file for HD 159062. It has seven columns: Date      , Sep (arcsec) , Err_sep  ,    PA (degrees),  Err_PA  Corr_Sep_PA, and  PlanetID. Planet ID depends on how many planets are in the system, 0 denotes the innermost planet, the second innermost is denoted 1 and so on."
   ]
  },
  {
   "cell_type": "code",
   "execution_count": null,
   "metadata": {},
   "outputs": [],
   "source": [
    "# %load orvara/tests/data/HD159062_relAST.txt\n",
    "# Instrument: NIRC2 on Keck\n",
    "# Published in Hirsch, L. A., Ciardi, D. R., Howard, A. W., et al. 2019, ApJ, 878, 50\n",
    "##\n",
    "# File format\n",
    "#   Date       Sep  Err_sep      PA  Err_PA  Corr_Sep_PA  PlanetID  \n",
    " 2012.48     2.594    0.014   298.6     0.1            0         0\n",
    " 2014.78     2.637    0.014   299.5     0.1            0         0\n",
    " 2018.32     2.673    0.003  301.27    0.04            0         0"
   ]
  },
  {
   "cell_type": "markdown",
   "metadata": {},
   "source": [
    "For absolute astrometry from the HGCA, make sure that the HGCA file (DR2 or eDR3) is specified. We are using Gaia eDR3 version of the HGCA.\n",
    "\n",
    "To use intermediate astrometry, make sure that the parameter use_epoch_astrometry in the config file is set to True. Also, make sure that the Gaia and Hipparcos intermediate data are ready to be fetched by htof. The Gaia eDR3 observations are publicly accessible via the Gaia Observation Forecast Tool (https : //gaia.esac.esa.int/gost/index.jsp). Gaia files are .csv files queried from GOST. The Hip1 and Hip2 data are (if not, soon) avaliable publically from ESA.\n",
    "\n",
    "Here, names containing HIP85653 are the ones we want for HD 159062."
   ]
  },
  {
   "cell_type": "code",
   "execution_count": 11,
   "metadata": {},
   "outputs": [
    {
     "name": "stdout",
     "output_type": "stream",
     "text": [
      "HIP003850.csv  HIP085653.csv  HIP095319.csv\r\n"
     ]
    }
   ],
   "source": [
    "ls orvara/tests/data/gaia/"
   ]
  },
  {
   "cell_type": "code",
   "execution_count": 12,
   "metadata": {},
   "outputs": [
    {
     "name": "stdout",
     "output_type": "stream",
     "text": [
      "003850.txt  085653.txt  95319.txt\r\n"
     ]
    }
   ],
   "source": [
    "ls orvara/tests/data/hip1/"
   ]
  },
  {
   "cell_type": "code",
   "execution_count": 13,
   "metadata": {},
   "outputs": [
    {
     "name": "stdout",
     "output_type": "stream",
     "text": [
      "HIP003850.d  HIP085653.d  HIP095319.d\r\n"
     ]
    }
   ],
   "source": [
    "ls orvara/tests/data/hip2/"
   ]
  },
  {
   "cell_type": "markdown",
   "metadata": {},
   "source": [
    "### Now, let's run fit_orbit and plot_orbit commands in the root directory"
   ]
  },
  {
   "cell_type": "markdown",
   "metadata": {},
   "source": [
    "We are going to run an example fit to HD 159062. Verifty that the RV data, relative astrometry data and absolute astrometry data are loaded in correctly to ensure a suceesful fit. Progress bar shows the progress of MCMC. "
   ]
  },
  {
   "cell_type": "code",
   "execution_count": 3,
   "metadata": {},
   "outputs": [
    {
     "name": "stdout",
     "output_type": "stream",
     "text": [
      "Loading RV data from file orvara/tests/data/HD159062_RV.dat\n",
      "Loaded data from 1 RV instruments.\n",
      "Loading astrometric data for 1 planets\n",
      "Loaded 3 relative astrometric data points from file orvara/tests/data/HD159062_relAST.txt\n",
      "Loading absolute astrometry data for Hip 85653\n",
      "Not using companion proper motion from Gaia.\n",
      "Using ptemcee.\n",
      "Running MCMC ... \n",
      "[###############################]100% 1%  2%  3%  4%  5%  6%  7%  8%  9% 10% 11% 12% 13% 14% 15% 16% 17% 18% 19% 20% 21% 22% 23% 24% 25% 26% 27% 28% 29% 30% 31% 32% 33% 34% 35% 36% 37% 38% 39% 40% 41% 42% 43% 44% 45% 46% 47% 48% 49% 50% 51% 52% 53% 54% 55% 56% 57% 58% 59% 60% 61% 62% 63% 64% 65% 66% 67% 68% 69% 70% 71% 72% 73% 74% 75% 76% 77% 78% 79% 80% 81% 82% 83% 84% 85% 86% 87% 88% 89% 90% 91% 92% 93% 94% 95% 96% 97% 98% 99%\n",
      "Total Time: 409 seconds\n",
      "Mean acceptance fraction (cold chain): 0.116571\n",
      "Writing output to orvara/tests/chains/HD159062B_chain000.fits\n"
     ]
    }
   ],
   "source": [
    "!fit_orbit --output-dir orvara/tests/chains orvara/tests/config_HD159062.ini"
   ]
  },
  {
   "cell_type": "markdown",
   "metadata": {},
   "source": [
    "Once you have the MCMC chain output by fit_orbit, feed it to McmcDataFile= in the config file. You can set a burn-in phase for the chain. After that, you are ready to go on to plot the orbits. plot_orbit will generate a suite of 7 plots relavant to RV and Astrometry, and a plot of the MCMC chain to breifly check convergence, and two files containting the beststep and posterior parameters. "
   ]
  },
  {
   "cell_type": "code",
   "execution_count": 6,
   "metadata": {},
   "outputs": [
    {
     "name": "stdout",
     "output_type": "stream",
     "text": [
      "Generating plots for target HD159062B\n",
      "Generating diagonstic plots to check convergence\n",
      "Plotting Astrometry orbits, your plot is generated at orvara/tests/plots/\n",
      "Plotting RV orbits, your plot is generated at orvara/tests/plots/\n",
      "Plotting RV, your plot is generated at orvara/tests/plots/\n",
      "Plotting Separation, your plot is generated at orvara/tests/plots/\n",
      "Plotting Position Angle, your plot is generated at orvara/tests/plots/\n",
      "Plotting Proper Motions, your plot is generated at orvara/tests/plots/\n",
      "Plotting Corner plot, your plot is generated at orvara/tests/plots/\n",
      "Saving beststep parameters to orvara/tests/plots/\n",
      "Saving posterior parameters to orvara/tests/plots/\n"
     ]
    }
   ],
   "source": [
    "!plot_orbit --output-dir orvara/tests/plots/ orvara/tests/config_HD159062.ini"
   ]
  },
  {
   "cell_type": "markdown",
   "metadata": {},
   "source": [
    "### Great! Your plots are generated in the default or specified output directory."
   ]
  },
  {
   "cell_type": "markdown",
   "metadata": {},
   "source": [
    "You can see the whole sets of plots in the output directory."
   ]
  },
  {
   "cell_type": "code",
   "execution_count": 3,
   "metadata": {},
   "outputs": [
    {
     "name": "stdout",
     "output_type": "stream",
     "text": [
      "Corner_HD159062B.pdf                  astrometric_orbit_HD159062B.pdf\r\n",
      "Diagnostic_HD159062B.png              astrometric_prediction_HD159062B.pdf\r\n",
      "PA_OC_HD159062B.pdf                   beststep_params_HD159062B.txt\r\n",
      "Proper_Motions_HD159062B.pdf          posterior_params_HD159062B.txt\r\n",
      "RV_OC_HD159062B_InstAll.pdf           relsep_OC_HD159062B.pdf\r\n",
      "RV_orbit_HD159062B.pdf\r\n"
     ]
    }
   ],
   "source": [
    "ls orvara/tests/plots/"
   ]
  },
  {
   "cell_type": "markdown",
   "metadata": {},
   "source": [
    "We can load the parameter files from the fit:"
   ]
  },
  {
   "cell_type": "code",
   "execution_count": null,
   "metadata": {},
   "outputs": [],
   "source": [
    "# %load orvara/tests/plots/beststep_params_HD159062B.txt\n",
    "plx_ML  0.04618727907\n",
    "pmra_ML  0.1695171527\n",
    "pmdec_ML  0.08816530131\n",
    "chisq_sep  0.7060916553\n",
    "chisq_PA  2.141646391\n",
    "chisq_H  4.077306854\n",
    "chisq_HG  0.1247828772\n",
    "chisq_G  0.2462001314\n",
    "RV_ZP_0_ML  -1479.148349\n"
   ]
  },
  {
   "cell_type": "code",
   "execution_count": null,
   "metadata": {},
   "outputs": [],
   "source": [
    "# %load orvara/tests/plots/posterior_params_HD159062B.txt\n",
    "Jit (m/s)         ${1.26}_{-0.29}^{+0.33}$\n",
    "Mpri (solar)         ${0.802}_{-0.050}^{+0.048}$\n",
    "Msec (solar)         ${0.6057}_{-0.0069}^{+0.0077}$\n",
    "a (AU)         ${56.8}_{-6.4}^{+4.4}$\n",
    "sqesinw         ${-0.207}_{-0.087}^{+0.13}$\n",
    "sqecosw         ${0.26}_{-0.19}^{+0.20}$\n",
    "inclination (deg)         ${61.6}_{-2.9}^{+1.7}$\n",
    "ascending node (deg)         ${134.5}_{-1.2}^{+2.2}$\n",
    "mean longitude (deg)         ${147.3}_{-7.9}^{+5.7}$\n",
    "parallax (mas)         ${46.1855}_{-0.0042}^{+0.0042}$\n",
    "period (yrs)         ${361}_{-60}^{+44}$\n",
    "argument of periastron (deg)         ${322}_{-47}^{+17}$\n",
    "eccentricity         ${0.123}_{-0.077}^{+0.14}$\n",
    "semimajor axis (mas)         ${2625}_{-296}^{+203}$\n",
    "T0 (JD)         ${2519211}_{-43442}^{+44845}$\n",
    "mass ratio         ${0.755}_{-0.044}^{+0.051}$\n"
   ]
  },
  {
   "cell_type": "code",
   "execution_count": null,
   "metadata": {},
   "outputs": [],
   "source": []
  }
 ],
 "metadata": {
  "kernelspec": {
   "display_name": "Python 3",
   "language": "python",
   "name": "python3"
  },
  "language_info": {
   "codemirror_mode": {
    "name": "ipython",
    "version": 3
   },
   "file_extension": ".py",
   "mimetype": "text/x-python",
   "name": "python",
   "nbconvert_exporter": "python",
   "pygments_lexer": "ipython3",
   "version": "3.8.10"
  }
 },
 "nbformat": 4,
 "nbformat_minor": 4
}
